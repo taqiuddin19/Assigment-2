{
 "cells": [
  {
   "cell_type": "code",
   "execution_count": 1,
   "metadata": {},
   "outputs": [
    {
     "name": "stdout",
     "output_type": "stream",
     "text": [
      "Enter below 10 numbers:\n",
      "Enter a number:1\n",
      "Enter a number:2\n",
      "Enter a number:6\n",
      "Enter a number:4\n",
      "Enter a number:12\n",
      "Enter a number:55\n",
      "Enter a number:66\n",
      "Enter a number:33\n",
      "Enter a number:44\n",
      "Enter a number:53\n",
      "Even numbers from the given list: [2, 6, 4, 12, 66, 44]\n"
     ]
    }
   ],
   "source": [
    "lst=[] # empty list\n",
    "print(\"Enter below 10 numbers:\")\n",
    "\n",
    "for i in range(10):\n",
    "    x=int(input(\"Enter a number:\"))\n",
    "    if x%2==0:\n",
    "         lst.append(x)\n",
    "            \n",
    "print(\"Even numbers from the given list:\",lst)"
   ]
  },
  {
   "cell_type": "code",
   "execution_count": 2,
   "metadata": {},
   "outputs": [
    {
     "name": "stdout",
     "output_type": "stream",
     "text": [
      "[2, 6, 4, 12, 66, 44]\n"
     ]
    }
   ],
   "source": [
    "# creating a list\n",
    "x = [1, 2, 3, 4, 5, 6, 7, 8]\n",
    "\n",
    "# list comprehensions\n",
    "y = [i for i in lst if i%2==0 ]\n",
    "\n",
    "print(y)"
   ]
  },
  {
   "cell_type": "code",
   "execution_count": 3,
   "metadata": {},
   "outputs": [
    {
     "name": "stdout",
     "output_type": "stream",
     "text": [
      "6\n",
      "Dictionary is as follows: {1: 1, 2: 4, 3: 9, 4: 16, 5: 25, 6: 36}\n"
     ]
    }
   ],
   "source": [
    "dict={}  #empty dictionary\n",
    "\n",
    "for i in range(1,int(input())+1):dict[i]=i*i\n",
    "print(\"Dictionary is as follows:\",dict)"
   ]
  },
  {
   "cell_type": "code",
   "execution_count": 9,
   "metadata": {},
   "outputs": [
    {
     "name": "stdout",
     "output_type": "stream",
     "text": [
      "4\n",
      "UP 5\n",
      "DOWN 3\n",
      "LEFT 3\n",
      "RIGHT 2\n",
      "2\n"
     ]
    }
   ],
   "source": [
    "import math\n",
    "(x,y)=(0,0)\n",
    "for i in range(int(input())):\n",
    "    a,b=input().split()\n",
    "    a,b=str(a),int(b)\n",
    "    if a==\"DOWN\":x,y=x,y-b\n",
    "    elif a==\"LEFT\":x,y=x-b,y\n",
    "    elif a==\"RIGHT\":x,y=x+b,y\n",
    "    else:x,y=x,y+b\n",
    "print(round(math.sqrt((x**2)+(y**2))))"
   ]
  },
  {
   "cell_type": "code",
   "execution_count": null,
   "metadata": {},
   "outputs": [],
   "source": []
  }
 ],
 "metadata": {
  "kernelspec": {
   "display_name": "Python 3",
   "language": "python",
   "name": "python3"
  },
  "language_info": {
   "codemirror_mode": {
    "name": "ipython",
    "version": 3
   },
   "file_extension": ".py",
   "mimetype": "text/x-python",
   "name": "python",
   "nbconvert_exporter": "python",
   "pygments_lexer": "ipython3",
   "version": "3.8.3"
  }
 },
 "nbformat": 4,
 "nbformat_minor": 4
}
